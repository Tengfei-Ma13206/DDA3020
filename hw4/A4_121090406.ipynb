{
 "cells": [
  {
   "cell_type": "code",
   "execution_count": 1,
   "id": "eb40fdf9",
   "metadata": {
    "pycharm": {
     "name": "#%%\n"
    }
   },
   "outputs": [],
   "source": [
    "import numpy as np\n",
    "import matplotlib.pyplot as plt"
   ]
  },
  {
   "cell_type": "markdown",
   "id": "b93e23aa",
   "metadata": {
    "pycharm": {
     "name": "#%% md\n"
    }
   },
   "source": [
    "## PCA"
   ]
  },
  {
   "cell_type": "code",
   "execution_count": 2,
   "id": "8fb5b7df",
   "metadata": {
    "pycharm": {
     "name": "#%%\n"
    }
   },
   "outputs": [
    {
     "data": {
      "text/plain": [
       "array([[-0.66344838, -0.31566651,  0.6604993 ,  1.0552759 , -1.61999921,\n",
       "         0.47693801,  0.18483472,  0.78062962, -2.2821081 , -1.97854147,\n",
       "        -0.36912295,  0.7110212 ,  1.21370535,  1.16908541,  1.19272176,\n",
       "         0.50817121,  1.37469698, -1.05726438,  0.1509611 ,  2.46241293,\n",
       "         0.6313321 ,  0.68969866, -1.40769072,  2.84267672, -0.43326822,\n",
       "        -1.81289158,  2.02131332,  2.19571862,  0.74446884,  1.5035048 ,\n",
       "         1.5207532 , -0.76119026,  0.76773843,  0.82396593, -0.4395424 ,\n",
       "        -1.52205298, -1.65240525, -2.47674445, -0.01157507,  1.11443822,\n",
       "         1.3716017 ,  1.36349513,  1.88302954, -0.62956057, -0.28441212,\n",
       "         0.96004475, -0.81896462, -0.1966213 , -0.01532761, -0.25423517,\n",
       "         0.50538453, -0.71197309,  0.35582938,  0.56685633, -0.01809689,\n",
       "        -0.47842486,  0.37546464, -0.28388332, -0.76942973,  2.77110124,\n",
       "         3.8034482 ,  4.00534905,  2.87823982,  1.87406423,  2.0508933 ,\n",
       "         2.16820614,  0.2596738 ,  0.70708443,  0.23711422,  2.2847884 ,\n",
       "        -3.16409179, -2.20955077, -2.62062165, -4.76779625, -2.21232336,\n",
       "        -2.07181452, -2.84275994, -6.46235442, -4.47829765, -2.61486732,\n",
       "        -1.67836371, -4.03755261, -5.71859177, -5.58807242, -5.32256756,\n",
       "        -4.00732381, -4.70505178, -4.79038389, -6.69570804, -6.46037602,\n",
       "        -6.14337744, -4.3951476 , -4.46139621, -3.78494886, -4.01629279,\n",
       "        -2.38051551, -5.0371874 , -4.92049767, -3.94065862, -4.53327546,\n",
       "        -1.65697361, -3.63867456, -4.97852528, -4.94143745, -4.63589248,\n",
       "        -4.52405499, -4.51574435, -3.12281151, -5.83137312, -4.35718398,\n",
       "        -4.15756069, -5.08259001, -4.89139771, -4.44322173, -6.67155248,\n",
       "        -4.9074919 , -4.37369427, -4.87191916, -4.44858857, -5.88457254,\n",
       "        -5.68383523, -3.705703  , -1.48852809, -3.98326071, -1.15533338,\n",
       "        -4.23450934, -4.21700578, -3.62299759, -6.17386444, -2.71378793,\n",
       "        -3.86089703, -4.61500274, -0.5921148 , -1.48591457, -0.69066009,\n",
       "        -0.53099358, -2.89265049, -1.10275966, -1.08106342, -1.58041453,\n",
       "         2.08047727,  2.04891061,  1.93112897,  3.14761497,  3.35755431,\n",
       "         4.22241525,  3.55211446,  2.74248901,  2.26028697,  4.59256683,\n",
       "         3.49115131,  3.4403806 ,  2.88398331,  3.96469498,  3.85801218,\n",
       "         4.23854664,  3.89609307,  2.98607257,  3.33747668,  3.83091968,\n",
       "         2.36752198,  3.15770694,  3.23143479,  2.61469342,  4.49824136,\n",
       "         2.94329647,  2.7660997 ,  2.89907369,  3.90252444,  3.95458414,\n",
       "         4.5210187 ,  4.04118364,  4.04672999,  4.03387689,  4.51655795,\n",
       "         4.67880742,  4.15214114,  4.67134302,  4.01783124,  2.60793947,\n",
       "         4.03445958,  2.84072766,  3.09276593,  3.75632591,  2.41503022,\n",
       "         3.5745032 ,  3.3727595 ,  4.43114913,  4.55059431,  5.00252227,\n",
       "         4.55827661,  4.04374701,  3.36161741,  4.5609495 ,  3.11855689,\n",
       "         2.5294642 ,  2.58655448,  1.83336074,  2.36059318,  2.35819688,\n",
       "         2.97998867,  2.41873891,  4.21924202,  3.08869155,  2.78962325,\n",
       "         3.04187227,  4.1090627 ,  2.50003394,  3.33207854,  3.10755116],\n",
       "       [-1.41732098, -2.68922915, -1.13150635, -1.62119002, -2.18338442,\n",
       "        -1.33649437, -0.15036441, -1.12979883, -1.3600169 , -1.49468793,\n",
       "         0.88672251, -2.1066373 ,  0.09468789, -0.7429629 , -0.95326816,\n",
       "         0.37795842,  1.32290559, -2.01562875, -2.02235813,  0.07374738,\n",
       "        -0.71830566, -1.11182531, -2.80658086, -2.66880642, -1.88984464,\n",
       "        -2.60002176, -0.60874333, -1.49837622, -1.06518721, -0.36820674,\n",
       "        -3.06180225, -0.20948876,  0.12629545, -1.7071502 , -1.52858534,\n",
       "        -1.25609762, -0.67511944, -0.45153755, -0.59625098,  2.83345206,\n",
       "        -1.30108591, -1.63960124, -1.51985066,  1.10062048, -0.56064121,\n",
       "        -2.29723526, -2.26570276, -0.74066649, -1.02061146, -1.55022082,\n",
       "         0.1977736 ,  1.96593925,  0.37957975, -0.45533233, -2.21678367,\n",
       "        -1.71349178, -0.97663132, -2.56463849, -1.63154473, -2.60034941,\n",
       "        -1.51695365, -1.97086343, -0.88675738,  0.21335528, -2.82503499,\n",
       "        -1.67334585, -2.4451202 , -1.59064814, -2.28118595, -0.46010381,\n",
       "         0.80412688,  1.27850851,  1.18221241, -0.15760472,  0.6011386 ,\n",
       "         1.50200244,  0.50400081,  1.60085825,  1.97530486, -0.51299139,\n",
       "         2.07292392,  2.1407172 ,  2.21396348, -1.50990711, -0.05114775,\n",
       "        -0.72997961, -1.45419923,  0.644968  ,  2.94421273,  2.15264305,\n",
       "        -0.94392643, -0.01610128,  0.11262451,  2.79030096,  1.80247983,\n",
       "         0.32343165,  0.43506278, -0.89780476, -0.31581029, -0.92951336,\n",
       "         0.72844077, -1.18043005,  1.2416318 ,  0.305328  ,  0.27094036,\n",
       "        -0.58340342, -0.27131139,  0.45621297,  0.33038585, -1.41741787,\n",
       "        -0.95083319,  0.62470458, -0.98291784,  3.57224575,  1.84060496,\n",
       "        -0.81813073,  1.17679493,  0.01487908,  0.50666109,  0.12704908,\n",
       "         2.94064884,  0.40319037,  0.78795065, -0.21505576, -0.25567598,\n",
       "         1.03173593,  1.2493069 , -0.98555285, -1.00395914,  2.00947941,\n",
       "        -0.37351327, -0.21026123,  0.86632018,  0.77443975,  1.38976691,\n",
       "        -0.04146216,  0.21157689, -0.89513618, -0.82329492,  0.29267917,\n",
       "         1.36508853,  3.11005161,  2.06805453,  1.38674593,  0.36238974,\n",
       "         1.97238736, -1.92651406,  0.36827575, -0.71575743,  1.21366537,\n",
       "         1.07925934,  2.89298232,  0.71798488, -0.86703146, -0.11962295,\n",
       "         1.60807548, -0.85033943,  0.76841591,  0.28475327,  1.23660236,\n",
       "        -0.89393656,  0.19251925,  0.88549611,  0.39492009,  2.13615465,\n",
       "        -1.88566242,  0.89177413, -0.409294  ,  0.15834089, -0.67304537,\n",
       "         2.49812224,  2.51581412,  0.10073829,  1.39431425,  0.94040872,\n",
       "         0.49184246,  1.12758416,  0.42103384,  1.67978706, -2.37304506,\n",
       "         0.74051735,  0.93351271,  0.77565492,  1.04703805,  2.20440679,\n",
       "        -0.07194431,  0.80390189, -0.07759181,  3.26576882,  0.63676661,\n",
       "         1.13664276, -0.22581488, -0.52786997,  0.59557408,  0.03319443,\n",
       "         0.83710962,  1.44846001,  0.73069309, -0.68682062, -1.2048841 ,\n",
       "         1.39806029, -1.74952111, -0.19425185,  4.37638669, -0.14194178,\n",
       "        -0.47312617,  0.10934087,  4.30796502, -0.52528975,  1.54975743]])"
      ]
     },
     "execution_count": 2,
     "metadata": {},
     "output_type": "execute_result"
    }
   ],
   "source": [
    "dataset = np.loadtxt('seeds_dataset.txt')\n",
    "X = dataset[:,:-1]\n",
    "y = dataset[:,-1]\n",
    "mu = np.mean(X, axis=0)\n",
    "sigma = np.cov(X.T)\n",
    "\n",
    "u, s, v = np.linalg.svd(sigma)\n",
    "U = u[:,:2]\n",
    "z = U.T @ (X-mu).T\n",
    "z #new representation"
   ]
  },
  {
   "cell_type": "markdown",
   "id": "d9f6d908",
   "metadata": {
    "pycharm": {
     "name": "#%% md\n"
    }
   },
   "source": [
    "## K-means"
   ]
  },
  {
   "cell_type": "code",
   "execution_count": 3,
   "id": "481b0b04",
   "metadata": {
    "pycharm": {
     "name": "#%%\n"
    }
   },
   "outputs": [
    {
     "data": {
      "image/png": "[encoded data removed]",
      "text/plain": [
       "<Figure size 432x288 with 1 Axes>"
      ]
     },
     "metadata": {
      "needs_background": "light"
     },
     "output_type": "display_data"
    }
   ],
   "source": [
    "# ground true\n",
    "colors = ['r', 'g', 'b']\n",
    "for i in range(1, 4):\n",
    "    plt.scatter(z[0,y==i], z[1,y==i], c=colors[i-1], label=f'Cluster {i}')\n",
    "plt.legend()\n",
    "plt.show()"
   ]
  },
  {
   "cell_type": "code",
   "execution_count": 4,
   "id": "79c20e53",
   "metadata": {
    "pycharm": {
     "name": "#%%\n"
    }
   },
   "outputs": [
    {
     "name": "stdout",
     "output_type": "stream",
     "text": [
      "centers: \n",
      "(array([3.32787801, 0.64576148]), array([-4.33639856,  0.46609094]), array([ 0.11491258, -1.08548863]))\n",
      "labels of all corresponding data points: \n",
      "[2 2 2 2 2 2 2 2 2 2 2 2 2 2 2 2 0 2 2 0 2 2 2 2 2 2 0 2 2 2 2 2 2 2 2 2 2\n",
      " 1 2 0 2 2 2 2 2 2 2 2 2 2 2 2 2 2 2 2 2 2 2 2 0 0 0 0 2 2 2 2 2 0 1 1 1 1\n",
      " 1 1 1 1 1 1 1 1 1 1 1 1 1 1 1 1 1 1 1 1 1 1 1 1 1 1 2 1 1 1 1 1 1 1 1 1 1\n",
      " 1 1 1 1 1 1 1 1 1 1 1 2 1 2 1 1 1 1 1 1 1 2 2 2 2 1 2 2 2 0 0 0 0 0 0 0 0\n",
      " 0 0 0 0 0 0 0 0 0 0 0 0 0 0 0 0 0 0 0 0 0 0 0 0 0 0 0 0 0 0 0 2 0 0 0 0 0\n",
      " 0 0 0 0 0 0 0 0 0 0 0 0 0 0 0 0 2 0 0 0 0 0 0 0 0]\n"
     ]
    }
   ],
   "source": [
    "def assignment(X,c):\n",
    "    d1 = np.linalg.norm(X - c[0], axis=1)\n",
    "    d2 = np.linalg.norm(X - c[1], axis=1)\n",
    "    d3 = np.linalg.norm(X - c[2], axis=1)\n",
    "    D = np.stack((d1, d2, d3), axis=1)\n",
    "    labels = np.argmin(D, axis=1) #assign the label with min distance\n",
    "    return labels\n",
    "\n",
    "def refitting(X,labels):\n",
    "    c1 = np.mean(X[labels==0], axis=0)\n",
    "    c2 = np.mean(X[labels==1], axis=0)\n",
    "    c3 = np.mean(X[labels==2], axis=0)\n",
    "    return (c1,c2,c3)\n",
    "\n",
    "np.random.seed(0)\n",
    "initialCenter = np.random.choice(dataset.shape[0], size=3, replace=False)\n",
    "x = z.T\n",
    "\n",
    "center = (x[initialCenter[0]],x[initialCenter[1]],x[initialCenter[2]])\n",
    "labelList = assignment(x,center)\n",
    "while True:\n",
    "    center = refitting(x,labelList)\n",
    "    if all(assignment(x,center)==labelList):\n",
    "        break # converge\n",
    "    labelList = assignment(x,center)\n",
    "print(\"centers: \")\n",
    "print(center)\n",
    "print(\"labels of all corresponding data points: \")\n",
    "print(labelList)"
   ]
  },
  {
   "cell_type": "markdown",
   "id": "a797c142",
   "metadata": {
    "pycharm": {
     "name": "#%% md\n"
    }
   },
   "source": [
    "## Silhouette Coefficient"
   ]
  },
  {
   "cell_type": "code",
   "execution_count": 5,
   "id": "a9083830",
   "metadata": {
    "pycharm": {
     "name": "#%%\n"
    }
   },
   "outputs": [
    {
     "name": "stdout",
     "output_type": "stream",
     "text": [
      "silhouette coefficient: 0.4802142699427175\n"
     ]
    }
   ],
   "source": [
    "distances = np.sqrt(((x[:, np.newaxis, :] - x) ** 2).sum(axis=2))\n",
    "a = np.zeros(x.shape[0]) # the mean distance between one data and all other points in the same cluster\n",
    "b = np.full(x.shape[0], np.inf) # the mean distance between one data and all other points in the next nearest cluster\n",
    "\n",
    "for i in np.unique(labelList):\n",
    "    same_cluster = np.where(labelList == i)[0]\n",
    "    a[same_cluster] = distances[same_cluster][:,same_cluster].sum(axis=1)/(same_cluster.size-1)\n",
    "\n",
    "    for j in np.unique(labelList):\n",
    "        if j != i:\n",
    "            other_clusters = np.where(labelList == j)[0]\n",
    "            other_cluster_mean_distances = distances[same_cluster][:,other_clusters].mean(axis=1)\n",
    "            b[same_cluster] = np.minimum(b[same_cluster], other_cluster_mean_distances)\n",
    "\n",
    "print(\"silhouette coefficient:\",((b-a)/np.maximum(a,b)).mean())"
   ]
  },
  {
   "cell_type": "markdown",
   "id": "066c8cdf",
   "metadata": {
    "pycharm": {
     "name": "#%% md\n"
    }
   },
   "source": [
    "## Rand Index"
   ]
  },
  {
   "cell_type": "code",
   "execution_count": 6,
   "id": "d25a6b4a",
   "metadata": {
    "pycharm": {
     "name": "#%%\n"
    }
   },
   "outputs": [
    {
     "name": "stdout",
     "output_type": "stream",
     "text": [
      "rand index: 0.8743677375256322\n"
     ]
    }
   ],
   "source": [
    "a = 0 #the number of pairs in the same cluster\n",
    "b = 0 # the number of pairs in the different clusters\n",
    "for i in range(y.shape[0]):\n",
    "    for j in range(i+1, y.shape[0]):\n",
    "        if y[i]==y[j] and labelList[i]==labelList[j]:\n",
    "            a += 1\n",
    "        elif y[i]!=y[j] and labelList[i]!=labelList[j]:\n",
    "            b += 1\n",
    "\n",
    "print(\"rand index:\",2*(a+b)/(x.shape[0]*(x.shape[0]-1)))"
   ]
  },
  {
   "cell_type": "code",
   "execution_count": null,
   "id": "b3b9094b",
   "metadata": {
    "pycharm": {
     "name": "#%%\n"
    }
   },
   "outputs": [],
   "source": []
  }
 ],
 "metadata": {
  "kernelspec": {
   "display_name": "Python 3 (ipykernel)",
   "language": "python",
   "name": "python3"
  },
  "language_info": {
   "codemirror_mode": {
    "name": "ipython",
    "version": 3
   },
   "file_extension": ".py",
   "mimetype": "text/x-python",
   "name": "python",
   "nbconvert_exporter": "python",
   "pygments_lexer": "ipython3",
   "version": "3.9.12"
  }
 },
 "nbformat": 4,
 "nbformat_minor": 5
}